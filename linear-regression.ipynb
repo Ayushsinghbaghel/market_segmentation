{
 "cells": [
  {
   "cell_type": "code",
   "execution_count": 1,
   "id": "983a615d",
   "metadata": {
    "_cell_guid": "b1076dfc-b9ad-4769-8c92-a6c4dae69d19",
    "_uuid": "8f2839f25d086af736a60e9eeb907d3b93b6e0e5",
    "execution": {
     "iopub.execute_input": "2025-03-15T08:00:29.541162Z",
     "iopub.status.busy": "2025-03-15T08:00:29.540734Z",
     "iopub.status.idle": "2025-03-15T08:00:30.533842Z",
     "shell.execute_reply": "2025-03-15T08:00:30.532435Z"
    },
    "papermill": {
     "duration": 1.00017,
     "end_time": "2025-03-15T08:00:30.535986",
     "exception": false,
     "start_time": "2025-03-15T08:00:29.535816",
     "status": "completed"
    },
    "tags": []
   },
   "outputs": [
    {
     "name": "stdout",
     "output_type": "stream",
     "text": [
      "/kaggle/input/vehicle-dataset-from-cardekho/car data.csv\n",
      "/kaggle/input/vehicle-dataset-from-cardekho/car details v4.csv\n",
      "/kaggle/input/vehicle-dataset-from-cardekho/CAR DETAILS FROM CAR DEKHO.csv\n",
      "/kaggle/input/vehicle-dataset-from-cardekho/Car details v3.csv\n",
      "/kaggle/input/coffee-shop-daily-revenue-prediction-dataset/coffee_shop_revenue.csv\n"
     ]
    }
   ],
   "source": [
    "# This Python 3 environment comes with many helpful analytics libraries installed\n",
    "# It is defined by the kaggle/python Docker image: https://github.com/kaggle/docker-python\n",
    "# For example, here's several helpful packages to load\n",
    "\n",
    "import numpy as np # linear algebra\n",
    "import pandas as pd # data processing, CSV file I/O (e.g. pd.read_csv)\n",
    "\n",
    "# Input data files are available in the read-only \"../input/\" directory\n",
    "# For example, running this (by clicking run or pressing Shift+Enter) will list all files under the input directory\n",
    "\n",
    "import os\n",
    "for dirname, _, filenames in os.walk('/kaggle/input'):\n",
    "    for filename in filenames:\n",
    "        print(os.path.join(dirname, filename))\n",
    "\n",
    "# You can write up to 20GB to the current directory (/kaggle/working/) that gets preserved as output when you create a version using \"Save & Run All\" \n",
    "# You can also write temporary files to /kaggle/temp/, but they won't be saved outside of the current session"
   ]
  },
  {
   "cell_type": "code",
   "execution_count": 2,
   "id": "11b43533",
   "metadata": {
    "execution": {
     "iopub.execute_input": "2025-03-15T08:00:30.544104Z",
     "iopub.status.busy": "2025-03-15T08:00:30.543577Z",
     "iopub.status.idle": "2025-03-15T08:00:37.489974Z",
     "shell.execute_reply": "2025-03-15T08:00:37.488437Z"
    },
    "papermill": {
     "duration": 6.95271,
     "end_time": "2025-03-15T08:00:37.492155",
     "exception": false,
     "start_time": "2025-03-15T08:00:30.539445",
     "status": "completed"
    },
    "tags": []
   },
   "outputs": [
    {
     "name": "stdout",
     "output_type": "stream",
     "text": [
      "Requirement already satisfied: matplotlib in /usr/local/lib/python3.10/dist-packages (3.7.5)\r\n",
      "Requirement already satisfied: seaborn in /usr/local/lib/python3.10/dist-packages (0.12.2)\r\n",
      "Requirement already satisfied: kagglehub in /usr/local/lib/python3.10/dist-packages (0.3.9)\r\n",
      "Requirement already satisfied: contourpy>=1.0.1 in /usr/local/lib/python3.10/dist-packages (from matplotlib) (1.3.1)\r\n",
      "Requirement already satisfied: cycler>=0.10 in /usr/local/lib/python3.10/dist-packages (from matplotlib) (0.12.1)\r\n",
      "Requirement already satisfied: fonttools>=4.22.0 in /usr/local/lib/python3.10/dist-packages (from matplotlib) (4.55.3)\r\n",
      "Requirement already satisfied: kiwisolver>=1.0.1 in /usr/local/lib/python3.10/dist-packages (from matplotlib) (1.4.7)\r\n",
      "Requirement already satisfied: numpy<2,>=1.20 in /usr/local/lib/python3.10/dist-packages (from matplotlib) (1.26.4)\r\n",
      "Requirement already satisfied: packaging>=20.0 in /usr/local/lib/python3.10/dist-packages (from matplotlib) (24.2)\r\n",
      "Requirement already satisfied: pillow>=6.2.0 in /usr/local/lib/python3.10/dist-packages (from matplotlib) (11.0.0)\r\n",
      "Requirement already satisfied: pyparsing>=2.3.1 in /usr/local/lib/python3.10/dist-packages (from matplotlib) (3.2.0)\r\n",
      "Requirement already satisfied: python-dateutil>=2.7 in /usr/local/lib/python3.10/dist-packages (from matplotlib) (2.9.0.post0)\r\n",
      "Requirement already satisfied: pandas>=0.25 in /usr/local/lib/python3.10/dist-packages (from seaborn) (2.2.3)\r\n",
      "Requirement already satisfied: pyyaml in /usr/local/lib/python3.10/dist-packages (from kagglehub) (6.0.2)\r\n",
      "Requirement already satisfied: requests in /usr/local/lib/python3.10/dist-packages (from kagglehub) (2.32.3)\r\n",
      "Requirement already satisfied: tqdm in /usr/local/lib/python3.10/dist-packages (from kagglehub) (4.67.1)\r\n",
      "Requirement already satisfied: mkl_fft in /usr/local/lib/python3.10/dist-packages (from numpy<2,>=1.20->matplotlib) (1.3.8)\r\n",
      "Requirement already satisfied: mkl_random in /usr/local/lib/python3.10/dist-packages (from numpy<2,>=1.20->matplotlib) (1.2.4)\r\n",
      "Requirement already satisfied: mkl_umath in /usr/local/lib/python3.10/dist-packages (from numpy<2,>=1.20->matplotlib) (0.1.1)\r\n",
      "Requirement already satisfied: mkl in /usr/local/lib/python3.10/dist-packages (from numpy<2,>=1.20->matplotlib) (2025.0.1)\r\n",
      "Requirement already satisfied: tbb4py in /usr/local/lib/python3.10/dist-packages (from numpy<2,>=1.20->matplotlib) (2022.0.0)\r\n",
      "Requirement already satisfied: mkl-service in /usr/local/lib/python3.10/dist-packages (from numpy<2,>=1.20->matplotlib) (2.4.1)\r\n",
      "Requirement already satisfied: pytz>=2020.1 in /usr/local/lib/python3.10/dist-packages (from pandas>=0.25->seaborn) (2025.1)\r\n",
      "Requirement already satisfied: tzdata>=2022.7 in /usr/local/lib/python3.10/dist-packages (from pandas>=0.25->seaborn) (2025.1)\r\n",
      "Requirement already satisfied: six>=1.5 in /usr/local/lib/python3.10/dist-packages (from python-dateutil>=2.7->matplotlib) (1.17.0)\r\n",
      "Requirement already satisfied: charset-normalizer<4,>=2 in /usr/local/lib/python3.10/dist-packages (from requests->kagglehub) (3.4.1)\r\n",
      "Requirement already satisfied: idna<4,>=2.5 in /usr/local/lib/python3.10/dist-packages (from requests->kagglehub) (3.10)\r\n",
      "Requirement already satisfied: urllib3<3,>=1.21.1 in /usr/local/lib/python3.10/dist-packages (from requests->kagglehub) (2.3.0)\r\n",
      "Requirement already satisfied: certifi>=2017.4.17 in /usr/local/lib/python3.10/dist-packages (from requests->kagglehub) (2025.1.31)\r\n",
      "Requirement already satisfied: intel-openmp>=2024 in /usr/local/lib/python3.10/dist-packages (from mkl->numpy<2,>=1.20->matplotlib) (2024.2.0)\r\n",
      "Requirement already satisfied: tbb==2022.* in /usr/local/lib/python3.10/dist-packages (from mkl->numpy<2,>=1.20->matplotlib) (2022.0.0)\r\n",
      "Requirement already satisfied: tcmlib==1.* in /usr/local/lib/python3.10/dist-packages (from tbb==2022.*->mkl->numpy<2,>=1.20->matplotlib) (1.2.0)\r\n",
      "Requirement already satisfied: intel-cmplr-lib-rt in /usr/local/lib/python3.10/dist-packages (from mkl_umath->numpy<2,>=1.20->matplotlib) (2024.2.0)\r\n",
      "Requirement already satisfied: intel-cmplr-lib-ur==2024.2.0 in /usr/local/lib/python3.10/dist-packages (from intel-openmp>=2024->mkl->numpy<2,>=1.20->matplotlib) (2024.2.0)\r\n",
      "Note: you may need to restart the kernel to use updated packages.\n"
     ]
    }
   ],
   "source": [
    "%pip install matplotlib seaborn kagglehub "
   ]
  },
  {
   "cell_type": "code",
   "execution_count": 3,
   "id": "ac4e8769",
   "metadata": {
    "execution": {
     "iopub.execute_input": "2025-03-15T08:00:37.500995Z",
     "iopub.status.busy": "2025-03-15T08:00:37.500592Z",
     "iopub.status.idle": "2025-03-15T08:00:38.290824Z",
     "shell.execute_reply": "2025-03-15T08:00:38.289303Z"
    },
    "papermill": {
     "duration": 0.797396,
     "end_time": "2025-03-15T08:00:38.293222",
     "exception": false,
     "start_time": "2025-03-15T08:00:37.495826",
     "status": "completed"
    },
    "tags": []
   },
   "outputs": [
    {
     "name": "stdout",
     "output_type": "stream",
     "text": [
      "Path to dataset files: /kaggle/input/coffee-shop-daily-revenue-prediction-dataset\n"
     ]
    }
   ],
   "source": [
    "import kagglehub\n",
    "\n",
    "# Download latest version\n",
    "path = kagglehub.dataset_download(\"himelsarder/coffee-shop-daily-revenue-prediction-dataset\")\n",
    "\n",
    "print(\"Path to dataset files:\", path)\n",
    "\n",
    "df = pd.read_csv(f\"{path}/coffee_shop_revenue.csv\")\n",
    "columns = df.columns\n",
    "\n",
    "# print(df.describe())\n"
   ]
  },
  {
   "cell_type": "code",
   "execution_count": 4,
   "id": "801fe455",
   "metadata": {
    "execution": {
     "iopub.execute_input": "2025-03-15T08:00:38.305587Z",
     "iopub.status.busy": "2025-03-15T08:00:38.305104Z",
     "iopub.status.idle": "2025-03-15T08:00:40.396043Z",
     "shell.execute_reply": "2025-03-15T08:00:40.394716Z"
    },
    "papermill": {
     "duration": 2.100705,
     "end_time": "2025-03-15T08:00:40.398234",
     "exception": false,
     "start_time": "2025-03-15T08:00:38.297529",
     "status": "completed"
    },
    "tags": []
   },
   "outputs": [],
   "source": [
    "from sklearn.model_selection import train_test_split\n",
    "from sklearn.linear_model import LinearRegression\n",
    "from sklearn.metrics import mean_absolute_error"
   ]
  },
  {
   "cell_type": "code",
   "execution_count": 5,
   "id": "f08fc1a5",
   "metadata": {
    "execution": {
     "iopub.execute_input": "2025-03-15T08:00:40.408463Z",
     "iopub.status.busy": "2025-03-15T08:00:40.407781Z",
     "iopub.status.idle": "2025-03-15T08:00:40.442740Z",
     "shell.execute_reply": "2025-03-15T08:00:40.441428Z"
    },
    "papermill": {
     "duration": 0.041986,
     "end_time": "2025-03-15T08:00:40.444653",
     "exception": false,
     "start_time": "2025-03-15T08:00:40.402667",
     "status": "completed"
    },
    "tags": []
   },
   "outputs": [
    {
     "data": {
      "text/html": [
       "<div>\n",
       "<style scoped>\n",
       "    .dataframe tbody tr th:only-of-type {\n",
       "        vertical-align: middle;\n",
       "    }\n",
       "\n",
       "    .dataframe tbody tr th {\n",
       "        vertical-align: top;\n",
       "    }\n",
       "\n",
       "    .dataframe thead th {\n",
       "        text-align: right;\n",
       "    }\n",
       "</style>\n",
       "<table border=\"1\" class=\"dataframe\">\n",
       "  <thead>\n",
       "    <tr style=\"text-align: right;\">\n",
       "      <th></th>\n",
       "      <th>Number_of_Customers_Per_Day</th>\n",
       "      <th>Average_Order_Value</th>\n",
       "      <th>Operating_Hours_Per_Day</th>\n",
       "      <th>Number_of_Employees</th>\n",
       "      <th>Marketing_Spend_Per_Day</th>\n",
       "      <th>Location_Foot_Traffic</th>\n",
       "      <th>Daily_Revenue</th>\n",
       "    </tr>\n",
       "  </thead>\n",
       "  <tbody>\n",
       "    <tr>\n",
       "      <th>0</th>\n",
       "      <td>152</td>\n",
       "      <td>6.74</td>\n",
       "      <td>14</td>\n",
       "      <td>4</td>\n",
       "      <td>106.62</td>\n",
       "      <td>97</td>\n",
       "      <td>1547.81</td>\n",
       "    </tr>\n",
       "    <tr>\n",
       "      <th>1</th>\n",
       "      <td>485</td>\n",
       "      <td>4.50</td>\n",
       "      <td>12</td>\n",
       "      <td>8</td>\n",
       "      <td>57.83</td>\n",
       "      <td>744</td>\n",
       "      <td>2084.68</td>\n",
       "    </tr>\n",
       "    <tr>\n",
       "      <th>2</th>\n",
       "      <td>398</td>\n",
       "      <td>9.09</td>\n",
       "      <td>6</td>\n",
       "      <td>6</td>\n",
       "      <td>91.76</td>\n",
       "      <td>636</td>\n",
       "      <td>3118.39</td>\n",
       "    </tr>\n",
       "    <tr>\n",
       "      <th>3</th>\n",
       "      <td>320</td>\n",
       "      <td>8.48</td>\n",
       "      <td>17</td>\n",
       "      <td>4</td>\n",
       "      <td>462.63</td>\n",
       "      <td>770</td>\n",
       "      <td>2912.20</td>\n",
       "    </tr>\n",
       "    <tr>\n",
       "      <th>4</th>\n",
       "      <td>156</td>\n",
       "      <td>7.44</td>\n",
       "      <td>17</td>\n",
       "      <td>2</td>\n",
       "      <td>412.52</td>\n",
       "      <td>232</td>\n",
       "      <td>1663.42</td>\n",
       "    </tr>\n",
       "  </tbody>\n",
       "</table>\n",
       "</div>"
      ],
      "text/plain": [
       "   Number_of_Customers_Per_Day  Average_Order_Value  Operating_Hours_Per_Day  \\\n",
       "0                          152                 6.74                       14   \n",
       "1                          485                 4.50                       12   \n",
       "2                          398                 9.09                        6   \n",
       "3                          320                 8.48                       17   \n",
       "4                          156                 7.44                       17   \n",
       "\n",
       "   Number_of_Employees  Marketing_Spend_Per_Day  Location_Foot_Traffic  \\\n",
       "0                    4                   106.62                     97   \n",
       "1                    8                    57.83                    744   \n",
       "2                    6                    91.76                    636   \n",
       "3                    4                   462.63                    770   \n",
       "4                    2                   412.52                    232   \n",
       "\n",
       "   Daily_Revenue  \n",
       "0        1547.81  \n",
       "1        2084.68  \n",
       "2        3118.39  \n",
       "3        2912.20  \n",
       "4        1663.42  "
      ]
     },
     "execution_count": 5,
     "metadata": {},
     "output_type": "execute_result"
    }
   ],
   "source": [
    "df.head()"
   ]
  },
  {
   "cell_type": "code",
   "execution_count": 6,
   "id": "6f19a602",
   "metadata": {
    "execution": {
     "iopub.execute_input": "2025-03-15T08:00:40.454099Z",
     "iopub.status.busy": "2025-03-15T08:00:40.453564Z",
     "iopub.status.idle": "2025-03-15T08:00:40.465317Z",
     "shell.execute_reply": "2025-03-15T08:00:40.463904Z"
    },
    "papermill": {
     "duration": 0.018593,
     "end_time": "2025-03-15T08:00:40.467245",
     "exception": false,
     "start_time": "2025-03-15T08:00:40.448652",
     "status": "completed"
    },
    "tags": []
   },
   "outputs": [
    {
     "data": {
      "text/plain": [
       "Number_of_Customers_Per_Day    0\n",
       "Average_Order_Value            0\n",
       "Operating_Hours_Per_Day        0\n",
       "Number_of_Employees            0\n",
       "Marketing_Spend_Per_Day        0\n",
       "Location_Foot_Traffic          0\n",
       "Daily_Revenue                  0\n",
       "dtype: int64"
      ]
     },
     "execution_count": 6,
     "metadata": {},
     "output_type": "execute_result"
    }
   ],
   "source": [
    "columns = df.columns\n",
    "\n",
    "df.isnull().sum()\n"
   ]
  },
  {
   "cell_type": "code",
   "execution_count": 7,
   "id": "8ee37cd1",
   "metadata": {
    "execution": {
     "iopub.execute_input": "2025-03-15T08:00:40.477543Z",
     "iopub.status.busy": "2025-03-15T08:00:40.477148Z",
     "iopub.status.idle": "2025-03-15T08:00:40.496457Z",
     "shell.execute_reply": "2025-03-15T08:00:40.493369Z"
    },
    "papermill": {
     "duration": 0.027005,
     "end_time": "2025-03-15T08:00:40.498790",
     "exception": false,
     "start_time": "2025-03-15T08:00:40.471785",
     "status": "completed"
    },
    "tags": []
   },
   "outputs": [],
   "source": [
    "feature_cols = columns[:-1]\n",
    "target_col = columns[-1]\n",
    "\n",
    "X = df[feature_cols]\n",
    "y = df[target_col]"
   ]
  },
  {
   "cell_type": "code",
   "execution_count": 8,
   "id": "e93f9b6a",
   "metadata": {
    "execution": {
     "iopub.execute_input": "2025-03-15T08:00:40.511199Z",
     "iopub.status.busy": "2025-03-15T08:00:40.510744Z",
     "iopub.status.idle": "2025-03-15T08:00:40.592247Z",
     "shell.execute_reply": "2025-03-15T08:00:40.590761Z"
    },
    "papermill": {
     "duration": 0.089867,
     "end_time": "2025-03-15T08:00:40.594411",
     "exception": false,
     "start_time": "2025-03-15T08:00:40.504544",
     "status": "completed"
    },
    "tags": []
   },
   "outputs": [
    {
     "data": {
      "text/html": [
       "<style>#sk-container-id-1 {color: black;background-color: white;}#sk-container-id-1 pre{padding: 0;}#sk-container-id-1 div.sk-toggleable {background-color: white;}#sk-container-id-1 label.sk-toggleable__label {cursor: pointer;display: block;width: 100%;margin-bottom: 0;padding: 0.3em;box-sizing: border-box;text-align: center;}#sk-container-id-1 label.sk-toggleable__label-arrow:before {content: \"▸\";float: left;margin-right: 0.25em;color: #696969;}#sk-container-id-1 label.sk-toggleable__label-arrow:hover:before {color: black;}#sk-container-id-1 div.sk-estimator:hover label.sk-toggleable__label-arrow:before {color: black;}#sk-container-id-1 div.sk-toggleable__content {max-height: 0;max-width: 0;overflow: hidden;text-align: left;background-color: #f0f8ff;}#sk-container-id-1 div.sk-toggleable__content pre {margin: 0.2em;color: black;border-radius: 0.25em;background-color: #f0f8ff;}#sk-container-id-1 input.sk-toggleable__control:checked~div.sk-toggleable__content {max-height: 200px;max-width: 100%;overflow: auto;}#sk-container-id-1 input.sk-toggleable__control:checked~label.sk-toggleable__label-arrow:before {content: \"▾\";}#sk-container-id-1 div.sk-estimator input.sk-toggleable__control:checked~label.sk-toggleable__label {background-color: #d4ebff;}#sk-container-id-1 div.sk-label input.sk-toggleable__control:checked~label.sk-toggleable__label {background-color: #d4ebff;}#sk-container-id-1 input.sk-hidden--visually {border: 0;clip: rect(1px 1px 1px 1px);clip: rect(1px, 1px, 1px, 1px);height: 1px;margin: -1px;overflow: hidden;padding: 0;position: absolute;width: 1px;}#sk-container-id-1 div.sk-estimator {font-family: monospace;background-color: #f0f8ff;border: 1px dotted black;border-radius: 0.25em;box-sizing: border-box;margin-bottom: 0.5em;}#sk-container-id-1 div.sk-estimator:hover {background-color: #d4ebff;}#sk-container-id-1 div.sk-parallel-item::after {content: \"\";width: 100%;border-bottom: 1px solid gray;flex-grow: 1;}#sk-container-id-1 div.sk-label:hover label.sk-toggleable__label {background-color: #d4ebff;}#sk-container-id-1 div.sk-serial::before {content: \"\";position: absolute;border-left: 1px solid gray;box-sizing: border-box;top: 0;bottom: 0;left: 50%;z-index: 0;}#sk-container-id-1 div.sk-serial {display: flex;flex-direction: column;align-items: center;background-color: white;padding-right: 0.2em;padding-left: 0.2em;position: relative;}#sk-container-id-1 div.sk-item {position: relative;z-index: 1;}#sk-container-id-1 div.sk-parallel {display: flex;align-items: stretch;justify-content: center;background-color: white;position: relative;}#sk-container-id-1 div.sk-item::before, #sk-container-id-1 div.sk-parallel-item::before {content: \"\";position: absolute;border-left: 1px solid gray;box-sizing: border-box;top: 0;bottom: 0;left: 50%;z-index: -1;}#sk-container-id-1 div.sk-parallel-item {display: flex;flex-direction: column;z-index: 1;position: relative;background-color: white;}#sk-container-id-1 div.sk-parallel-item:first-child::after {align-self: flex-end;width: 50%;}#sk-container-id-1 div.sk-parallel-item:last-child::after {align-self: flex-start;width: 50%;}#sk-container-id-1 div.sk-parallel-item:only-child::after {width: 0;}#sk-container-id-1 div.sk-dashed-wrapped {border: 1px dashed gray;margin: 0 0.4em 0.5em 0.4em;box-sizing: border-box;padding-bottom: 0.4em;background-color: white;}#sk-container-id-1 div.sk-label label {font-family: monospace;font-weight: bold;display: inline-block;line-height: 1.2em;}#sk-container-id-1 div.sk-label-container {text-align: center;}#sk-container-id-1 div.sk-container {/* jupyter's `normalize.less` sets `[hidden] { display: none; }` but bootstrap.min.css set `[hidden] { display: none !important; }` so we also need the `!important` here to be able to override the default hidden behavior on the sphinx rendered scikit-learn.org. See: https://github.com/scikit-learn/scikit-learn/issues/21755 */display: inline-block !important;position: relative;}#sk-container-id-1 div.sk-text-repr-fallback {display: none;}</style><div id=\"sk-container-id-1\" class=\"sk-top-container\"><div class=\"sk-text-repr-fallback\"><pre>LinearRegression()</pre><b>In a Jupyter environment, please rerun this cell to show the HTML representation or trust the notebook. <br />On GitHub, the HTML representation is unable to render, please try loading this page with nbviewer.org.</b></div><div class=\"sk-container\" hidden><div class=\"sk-item\"><div class=\"sk-estimator sk-toggleable\"><input class=\"sk-toggleable__control sk-hidden--visually\" id=\"sk-estimator-id-1\" type=\"checkbox\" checked><label for=\"sk-estimator-id-1\" class=\"sk-toggleable__label sk-toggleable__label-arrow\">LinearRegression</label><div class=\"sk-toggleable__content\"><pre>LinearRegression()</pre></div></div></div></div></div>"
      ],
      "text/plain": [
       "LinearRegression()"
      ]
     },
     "execution_count": 8,
     "metadata": {},
     "output_type": "execute_result"
    }
   ],
   "source": [
    "train_X, validate_X, train_y, validate_y = train_test_split(X, y, test_size = 0.2, random_state = 1)\n",
    "model = LinearRegression()\n",
    "model.fit(train_X, train_y)"
   ]
  },
  {
   "cell_type": "code",
   "execution_count": 9,
   "id": "cb6f6ff6",
   "metadata": {
    "execution": {
     "iopub.execute_input": "2025-03-15T08:00:40.605335Z",
     "iopub.status.busy": "2025-03-15T08:00:40.604901Z",
     "iopub.status.idle": "2025-03-15T08:00:40.618321Z",
     "shell.execute_reply": "2025-03-15T08:00:40.616505Z"
    },
    "papermill": {
     "duration": 0.022335,
     "end_time": "2025-03-15T08:00:40.621677",
     "exception": false,
     "start_time": "2025-03-15T08:00:40.599342",
     "status": "completed"
    },
    "tags": []
   },
   "outputs": [
    {
     "data": {
      "text/plain": [
       "254.12862877215923"
      ]
     },
     "execution_count": 9,
     "metadata": {},
     "output_type": "execute_result"
    }
   ],
   "source": [
    "predicted_sales = model.predict(validate_X)\n",
    "\n",
    "mae = mean_absolute_error(predicted_sales, validate_y)\n",
    "mae"
   ]
  },
  {
   "cell_type": "code",
   "execution_count": 10,
   "id": "569d1ccc",
   "metadata": {
    "execution": {
     "iopub.execute_input": "2025-03-15T08:00:40.633060Z",
     "iopub.status.busy": "2025-03-15T08:00:40.632639Z",
     "iopub.status.idle": "2025-03-15T08:00:40.645432Z",
     "shell.execute_reply": "2025-03-15T08:00:40.643676Z"
    },
    "papermill": {
     "duration": 0.021803,
     "end_time": "2025-03-15T08:00:40.648313",
     "exception": false,
     "start_time": "2025-03-15T08:00:40.626510",
     "status": "completed"
    },
    "tags": []
   },
   "outputs": [
    {
     "name": "stdout",
     "output_type": "stream",
     "text": [
      "[1012.82223738 2841.30604464]\n",
      "1967     895.38\n",
      "502     2635.07\n",
      "Name: Daily_Revenue, dtype: float64\n",
      "161.83914100778367\n"
     ]
    }
   ],
   "source": [
    "rand_rows = df.sample(n=2)\n",
    "\n",
    "feats, targets = rand_rows[feature_cols], rand_rows[target_col]\n",
    "\n",
    "predicted = model.predict(feats)\n",
    "\n",
    "print(predicted)\n",
    "print(targets)\n",
    "\n",
    "# print(predicted, targets)\n",
    "print(mean_absolute_error(predicted, targets))"
   ]
  }
 ],
 "metadata": {
  "kaggle": {
   "accelerator": "none",
   "dataSources": [
    {
     "databundleVersionId": 11031176,
     "datasetId": 6620001,
     "sourceId": 10685241,
     "sourceType": "datasetVersion"
    },
    {
     "databundleVersionId": 4919004,
     "datasetId": 33080,
     "sourceId": 4852390,
     "sourceType": "datasetVersion"
    }
   ],
   "dockerImageVersionId": 30918,
   "isGpuEnabled": false,
   "isInternetEnabled": true,
   "language": "python",
   "sourceType": "notebook"
  },
  "kernelspec": {
   "display_name": "Python 3",
   "language": "python",
   "name": "python3"
  },
  "language_info": {
   "codemirror_mode": {
    "name": "ipython",
    "version": 3
   },
   "file_extension": ".py",
   "mimetype": "text/x-python",
   "name": "python",
   "nbconvert_exporter": "python",
   "pygments_lexer": "ipython3",
   "version": "3.10.12"
  },
  "papermill": {
   "default_parameters": {},
   "duration": 15.688912,
   "end_time": "2025-03-15T08:00:41.577150",
   "environment_variables": {},
   "exception": null,
   "input_path": "__notebook__.ipynb",
   "output_path": "__notebook__.ipynb",
   "parameters": {},
   "start_time": "2025-03-15T08:00:25.888238",
   "version": "2.6.0"
  }
 },
 "nbformat": 4,
 "nbformat_minor": 5
}
